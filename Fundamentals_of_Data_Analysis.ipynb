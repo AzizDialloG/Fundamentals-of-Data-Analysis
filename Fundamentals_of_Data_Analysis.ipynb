{
 "cells": [
  {
   "cell_type": "markdown",
   "metadata": {},
   "source": [
    "# 1.\tCount Function Implementation\n",
    "\n",
    "The definition of a count function is to take list as a paramenter and return a dictionary of unique items in the list as keys and the number of\n",
    "times each item appears as values.\n",
    "We will iterate through the list and insert the list element as key and elements total count as value."
   ]
  },
  {
   "cell_type": "code",
   "execution_count": 1,
   "metadata": {},
   "outputs": [
    {
     "name": "stdout",
     "output_type": "stream",
     "text": [
      "{'A': 3, 'B': 1, 'C': 1}\n"
     ]
    }
   ],
   "source": [
    "# defintion of counts function\n",
    "def counts(list):\n",
    "    dict = {}\n",
    "    # for each value/item in list as i\n",
    "    for i in list:\n",
    "        # updating/inserting the i as key and its total count in the whole \n",
    "        #list as value  \n",
    "        dict.update({i: list.count(i)})\n",
    "    return dict\n",
    "\n",
    "# list of values with duplicate values\n",
    "list = ['A', 'A', 'B', 'C', 'A']\n",
    "# calling counts function with list\n",
    "print(counts(list))"
   ]
  },
  {
   "cell_type": "code",
   "execution_count": null,
   "metadata": {},
   "outputs": [],
   "source": []
  }
 ],
 "metadata": {
  "kernelspec": {
   "display_name": "Python 3",
   "language": "python",
   "name": "python3"
  },
  "language_info": {
   "codemirror_mode": {
    "name": "ipython",
    "version": 3
   },
   "file_extension": ".py",
   "mimetype": "text/x-python",
   "name": "python",
   "nbconvert_exporter": "python",
   "pygments_lexer": "ipython3",
   "version": "3.6.12"
  }
 },
 "nbformat": 4,
 "nbformat_minor": 4
}

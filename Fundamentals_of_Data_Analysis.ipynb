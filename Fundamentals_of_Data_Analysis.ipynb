{
 "cells": [
  {
   "cell_type": "markdown",
   "metadata": {},
   "source": [
    "# \tFundamentals of Data Analysis "
   ]
  },
  {
   "cell_type": "markdown",
   "metadata": {},
   "source": [
    "## Importing libraries"
   ]
  },
  {
   "cell_type": "code",
   "execution_count": 1,
   "metadata": {},
   "outputs": [],
   "source": [
    "import numpy as np\n",
    "import matplotlib.pyplot as plt\n",
    "import seaborn as sns\n",
    "import warnings\n",
    "warnings.filterwarnings('ignore')"
   ]
  },
  {
   "cell_type": "markdown",
   "metadata": {},
   "source": [
    "# 1.\tCount Function Implementation\n",
    "\n",
    "The definition of a count function is to take list as a paramenter and return a dictionary of unique elements in the list as keys and the number of\n",
    "times each element appears as values.\n",
    "We will iterate through the list and insert the list element as key and elements total count as value."
   ]
  },
  {
   "cell_type": "code",
   "execution_count": 3,
   "metadata": {},
   "outputs": [
    {
     "name": "stdout",
     "output_type": "stream",
     "text": [
      "{'A': 3, 'B': 1, 'C': 1}\n"
     ]
    }
   ],
   "source": [
    "# defintion of counts function:\n",
    "def counts(list):\n",
    "    dict = {}\n",
    "    # for each value/item in list as i\n",
    "    for i in list:\n",
    "        # updating/inserting the i as key and its total count in the whole \n",
    "        #list as value  \n",
    "        dict.update({i: list.count(i)})\n",
    "    return dict\n",
    "\n",
    "# list of values with duplicate values\n",
    "list = ['A', 'A', 'B', 'C', 'A']\n",
    "# calling counts function with list\n",
    "print(counts(list))"
   ]
  },
  {
   "cell_type": "markdown",
   "metadata": {},
   "source": [
    "# 2.\tDicerolls Function Implementation\n",
    "\n",
    "This function will simulates the rolling dice. It will take two parameters, k and n, k is the no. of dice and n is the no. of times the dice will roll. "
   ]
  },
  {
   "cell_type": "code",
   "execution_count": 5,
   "metadata": {},
   "outputs": [
    {
     "name": "stdout",
     "output_type": "stream",
     "text": [
      "{3: 60, 10: 79, 2: 23, 6: 144, 7: 191, 9: 115, 12: 32, 8: 129, 5: 104, 4: 75, 11: 48}\n"
     ]
    }
   ],
   "source": [
    "import random\n",
    "\n",
    "# definition of dicerolls function:\n",
    "def dicerolls(k=2, n=100):\n",
    "    \"\"\"\n",
    "    :param k: number of dice\n",
    "    :param n: number of times to roll the dice\n",
    "    :return: dictionary\n",
    "    \"\"\"\n",
    "    dict = {}\n",
    "    dices = []\n",
    "    # nested for loop for iterating n rolls for k number of dices\n",
    "    for i in range(n):\n",
    "        for dice in range(k):\n",
    "            # rolling dice using random module function\n",
    "            dices.append(random.randrange(1,7))\n",
    "            \n",
    "        # storing the total face value of dices in a variable\n",
    "        dsum = sum(dices)\n",
    "        # clearing the list for next roll\n",
    "        dices.clear()\n",
    "        \n",
    "        # if the sum of dices face values is not in the dictionary then \n",
    "        # insert new with a 1 value\n",
    "        if dict.get(dsum) == None:\n",
    "            dict[dsum] = 1\n",
    "        # else already exists the increment the value of face-total(key)\n",
    "        else:\n",
    "            dict[dsum] += 1\n",
    "            \n",
    "    return dict\n",
    "    \n",
    "dictionary = dicerolls(k=2, n=1000)\n",
    "print(dictionary)\n",
    "\n",
    "\n"
   ]
  },
  {
   "cell_type": "code",
   "execution_count": null,
   "metadata": {},
   "outputs": [],
   "source": []
  }
 ],
 "metadata": {
  "kernelspec": {
   "display_name": "Python 3",
   "language": "python",
   "name": "python3"
  },
  "language_info": {
   "codemirror_mode": {
    "name": "ipython",
    "version": 3
   },
   "file_extension": ".py",
   "mimetype": "text/x-python",
   "name": "python",
   "nbconvert_exporter": "python",
   "pygments_lexer": "ipython3",
   "version": "3.6.12"
  }
 },
 "nbformat": 4,
 "nbformat_minor": 4
}
